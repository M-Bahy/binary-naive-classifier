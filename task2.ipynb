{
 "cells": [
  {
   "cell_type": "markdown",
   "metadata": {},
   "source": [
    "# Naive Bayes Classifier Implementation\n",
    "\n",
    "This notebook implements a Naive Bayes classifier for image segmentation with support for:\n",
    "- Grayscale images (1 channel)\n",
    "- RGB images (3 channels)\n",
    "- Multi-spectral images (36 channels)\n",
    "\n",
    "## Import Required Libraries"
   ]
  },
  {
   "cell_type": "code",
   "execution_count": null,
   "metadata": {},
   "outputs": [],
   "source": [
    "import os\n",
    "from random import shuffle, choice\n",
    "from PIL import Image\n",
    "import numpy as np\n",
    "from collections import defaultdict\n",
    "import matplotlib.pyplot as plt"
   ]
  },
  {
   "cell_type": "markdown",
   "metadata": {},
   "source": [
    "## Configuration\n",
    "\n",
    "Set up paths and mode of operation"
   ]
  },
  {
   "cell_type": "code",
   "execution_count": null,
   "metadata": {},
   "outputs": [],
   "source": [
    "mode = 36  # Choose between 1 (grayscale), 3 (RGB), or 36 (multi-spectral)\n",
    "test_image = \"\"\n",
    "\n",
    "# Define paths\n",
    "rgb_images = \"/home/bahy/Desktop/CMS/Deep Learning/Assignment 1/naive-classifier/Dataset/subset/3_images\"\n",
    "grayscale_images = \"/home/bahy/Desktop/CMS/Deep Learning/Assignment 1/naive-classifier/Dataset/subset/1_images\"\n",
    "rgb_labels = grayscale_labels = \"/home/bahy/Desktop/CMS/Deep Learning/Assignment 1/naive-classifier/Dataset/subset/labels\"\n",
    "multi_spectral_images = \"/media/bahy/MEDO BAHY/CMS/Deep Learning/Assignment 1/naive-classifier/Dataset/subset/36_data/dataset.txt\"\n",
    "multi_spectral_labels = \"\"\n",
    "\n",
    "# Create path mappings\n",
    "image_paths = {\n",
    "    1: grayscale_images,\n",
    "    3: rgb_images,\n",
    "    36: multi_spectral_images\n",
    "}\n",
    "images_directory = image_paths[mode]\n",
    "\n",
    "label_paths = {\n",
    "    1: grayscale_labels,\n",
    "    3: rgb_labels,\n",
    "    36: multi_spectral_labels\n",
    "}\n",
    "labels_directory = label_paths[mode]"
   ]
  },
  {
   "cell_type": "markdown",
   "metadata": {},
   "source": [
    "## Data Processing Functions\n",
    "\n",
    "Functions for loading and processing image data"
   ]
  },
  {
   "cell_type": "code",
   "execution_count": null,
   "metadata": {},
   "outputs": [],
   "source": [
    "def process_images(image_files):\n",
    "    \n",
    "    all_pixels = []\n",
    "    for image_file in image_files:\n",
    "        path = os.path.join(images_directory, image_file)\n",
    "        image = Image.open(path)\n",
    "        image_array = np.array(image)\n",
    "        if image_array.ndim == 2:  # Grayscale image\n",
    "            image_array = image_array[:, :, np.newaxis]\n",
    "        pixels = image_array.reshape(-1, image_array.shape[-1])\n",
    "        all_pixels.append(pixels)\n",
    "    return np.vstack(all_pixels)\n",
    "\n",
    "def process_labels(label_files):\n",
    "    # ... existing process_labels implementation ...\n",
    "\n",
    "def text_to_datapoint(file_path):\n",
    "    # ... existing text_to_datapoint implementation ...\n",
    "\n",
    "def process_file(input_path):\n",
    "    # ... existing process_file implementation ...\n",
    "\n",
    "def train_test_split(images_directory, labels_directory, train_size=0.8):\n",
    "    # ... existing train_test_split implementation ..."
   ]
  },
  {
   "cell_type": "markdown",
   "metadata": {},
   "source": [
    "## Statistical Functions\n",
    "\n",
    "Helper functions for statistical calculations"
   ]
  },
  {
   "cell_type": "code",
   "execution_count": null,
   "metadata": {},
   "outputs": [],
   "source": [
    "def count_values(array):\n",
    "    # ... existing count_values implementation ...\n",
    "\n",
    "def stats(values):\n",
    "    # ... existing stats implementation ..."
   ]
  },
  {
   "cell_type": "markdown",
   "metadata": {},
   "source": [
    "## Naive Bayes Model Implementation"
   ]
  },
  {
   "cell_type": "code",
   "execution_count": null,
   "metadata": {},
   "outputs": [],
   "source": [
    "def BM_multi_spectral(data, truth):\n",
    "    # ... existing BM_multi_spectral implementation ...\n",
    "\n",
    "def BayesModel(data, truth):\n",
    "    # ... existing BayesModel implementation ..."
   ]
  },
  {
   "cell_type": "markdown",
   "metadata": {},
   "source": [
    "## Prediction Functions"
   ]
  },
  {
   "cell_type": "code",
   "execution_count": null,
   "metadata": {},
   "outputs": [],
   "source": [
    "def BP_multi_spectral(model, test_data):\n",
    "    # ... existing BP_multi_spectral implementation ...\n",
    "\n",
    "def BayesPredict(model, test_data):\n",
    "    # ... existing BayesPredict implementation ..."
   ]
  },
  {
   "cell_type": "markdown",
   "metadata": {},
   "source": [
    "## Visualization Functions"
   ]
  },
  {
   "cell_type": "code",
   "execution_count": null,
   "metadata": {},
   "outputs": [],
   "source": [
    "def viz_multi_spectral(actual, predicted):\n",
    "    # ... existing viz_multi_spectral implementation ...\n",
    "\n",
    "def is_grayscale(image_array):\n",
    "    # ... existing is_grayscale implementation ...\n",
    "\n",
    "def visualize(model):\n",
    "    # ... existing visualize implementation ..."
   ]
  },
  {
   "cell_type": "markdown",
   "metadata": {},
   "source": [
    "## Confusion Matrix Functions"
   ]
  },
  {
   "cell_type": "code",
   "execution_count": null,
   "metadata": {},
   "outputs": [],
   "source": [
    "def ConfMtrx_multi_spectral(actual, predicted):\n",
    "    # ... existing ConfMtrx_multi_spectral implementation ...\n",
    "\n",
    "def ConfMtrx(actual, predicted):\n",
    "    # ... existing ConfMtrx implementation ..."
   ]
  },
  {
   "cell_type": "markdown",
   "metadata": {},
   "source": [
    "## Run the Model\n",
    "\n",
    "Execute the classifier and display results"
   ]
  },
  {
   "cell_type": "code",
   "execution_count": null,
   "metadata": {},
   "outputs": [],
   "source": [
    "if mode not in [1, 3, 36]:\n",
    "    raise ValueError(\"Mode should be 1,3 or 36\")\n",
    "\n",
    "x_train, y_train, x_test, y_test = train_test_split(images_directory, labels_directory)\n",
    "BM = BayesModel(x_train, y_train)\n",
    "lbl = BayesPredict(BM, x_test)\n",
    "Mtrx = ConfMtrx(y_test, lbl)\n",
    "visualize(BM)"
   ]
  }
 ],
 "metadata": {
  "kernelspec": {
   "display_name": "base",
   "language": "python",
   "name": "python3"
  },
  "language_info": {
   "codemirror_mode": {
    "name": "ipython",
    "version": 3
   },
   "file_extension": ".py",
   "mimetype": "text/x-python",
   "name": "python",
   "nbconvert_exporter": "python",
   "pygments_lexer": "ipython3",
   "version": "3.12.2"
  }
 },
 "nbformat": 4,
 "nbformat_minor": 4
}
